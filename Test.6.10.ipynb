{
 "cells": [
  {
   "cell_type": "markdown",
   "id": "fd78625b-5726-40a3-858e-c40420a49900",
   "metadata": {},
   "source": [
    "HELLO EEVRYONE, i will introduce..."
   ]
  }
 ],
 "metadata": {
  "kernelspec": {
   "display_name": "R",
   "language": "R",
   "name": "ir"
  },
  "language_info": {
   "codemirror_mode": "r",
   "file_extension": ".r",
   "mimetype": "text/x-r-source",
   "name": "R",
   "pygments_lexer": "r",
   "version": "4.3.3"
  }
 },
 "nbformat": 4,
 "nbformat_minor": 5
}
